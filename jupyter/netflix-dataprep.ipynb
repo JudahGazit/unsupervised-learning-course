{
 "cells": [
  {
   "cell_type": "code",
   "execution_count": 1,
   "metadata": {},
   "outputs": [],
   "source": [
    "%load_ext autoreload\n",
    "%matplotlib inline\n",
    "%autoreload 2\n",
    "from deco.imports import *\n",
    "from deco.context import *\n",
    "import json\n",
    "from pprint import pprint\n",
    "import sklearn.ensemble as st\n",
    "from datetime import datetime\n",
    "import random\n",
    "from math import sin, cos, sqrt, atan2, radians\n",
    "import networkx as nx\n",
    "import numpy as np\n",
    "from scipy.stats import norm\n",
    "import matplotlib.pyplot as plt"
   ]
  },
  {
   "cell_type": "code",
   "execution_count": 2,
   "metadata": {},
   "outputs": [],
   "source": [
    "PATH = '/home/rotem/Documents/code/unsupervised-learning/data/netflix/'"
   ]
  },
  {
   "cell_type": "code",
   "execution_count": 3,
   "metadata": {},
   "outputs": [],
   "source": [
    "pandas_cache = {}"
   ]
  },
  {
   "cell_type": "code",
   "execution_count": 4,
   "metadata": {},
   "outputs": [],
   "source": [
    "def lower_columns(df, columns):\n",
    "    for column in columns:\n",
    "        df[column] = df[column].str.lower()"
   ]
  },
  {
   "cell_type": "code",
   "execution_count": 5,
   "metadata": {},
   "outputs": [],
   "source": [
    "def load_netflix_data():\n",
    "    if 'netflix' not in pandas_cache:\n",
    "        df = pd.read_csv(PATH + 'netflix_titles.csv')\n",
    "        pandas_cache['netflix'] = df\n",
    "    else:\n",
    "        df = pandas_cache['netflix']\n",
    "    return df"
   ]
  },
  {
   "cell_type": "code",
   "execution_count": 6,
   "metadata": {},
   "outputs": [],
   "source": [
    "def load_imdb():\n",
    "    if 'imdb' not in pandas_cache:\n",
    "        titles = pd.read_csv(PATH + 'title.basics.tsv', sep='\\t')\n",
    "        raiting = pd.read_csv(PATH + 'title.ratings.tsv', sep='\\t')\n",
    "        df = titles.merge(raiting, on=['tconst'])\n",
    "        pandas_cache['imdb'] = df\n",
    "    else:\n",
    "        df = pandas_cache['imdb']\n",
    "    return df\n",
    "\n",
    "def prepare_imdb(imdb, to_lower=['primaryTitle', 'originalTitle'], to_keep=['averageRating', 'numVotes']):\n",
    "    imdb = imdb.copy()\n",
    "    lower_columns(imdb, to_lower)\n",
    "    imdb = imdb[to_lower + to_keep]\n",
    "    imdb['title'] = imdb.primaryTitle.str.replace(\"'\", '')\n",
    "    imdb.averageRating = imdb.averageRating * imdb.numVotes\n",
    "    imdb = imdb.groupby(['title'], as_index=False).agg({'averageRating': 'sum', 'numVotes': 'sum'})\n",
    "    imdb.averageRating = imdb.averageRating / imdb.numVotes\n",
    "    return imdb\n",
    "\n",
    "def add_imdb_raiting(df):\n",
    "    imdb = load_imdb()\n",
    "    imdb = prepare_imdb(imdb)\n",
    "    imdb.title = imdb.title.str.replace('&', 'and')\n",
    "    df.title = df.title.str.replace('&', 'and')\n",
    "    df = df.merge(imdb, on=['title'], how='left')\n",
    "    return df"
   ]
  },
  {
   "cell_type": "code",
   "execution_count": 7,
   "metadata": {},
   "outputs": [],
   "source": [
    "def load_oscars():\n",
    "    if 'oscars' not in pandas_cache:\n",
    "        df = pd.read_csv(PATH + 'oscars.csv')\n",
    "        pandas_cache['oscars'] = df\n",
    "    else:\n",
    "        df = pandas_cache['oscars']\n",
    "    return df\n",
    "\n",
    "def prepare_oscars(oscars):\n",
    "    oscars = oscars.copy()\n",
    "    oscars.win = oscars.win.apply(lambda value: 1 if value else 0)\n",
    "    oscars.film = oscars.film.str.lower()\n",
    "    oscars = oscars[(oscars.film != ' ') & (oscars.film.notnull())].groupby(['film'], as_index=False).agg({'win': 'sum'})\n",
    "    oscars['title'] = oscars.film.str.replace(\"'\", '')\n",
    "    oscars = oscars[['title', 'win']]\n",
    "    return oscars\n",
    "\n",
    "def add_oscars(df):\n",
    "    oscars = load_oscars()\n",
    "    oscars = prepare_oscars(oscars)\n",
    "    oscars['type'] = 'Movie'\n",
    "    df = df.merge(oscars, on=['title', 'type'], how='left')\n",
    "    df.win = df.win.apply(lambda value: value if value is not None else 0)\n",
    "    return df"
   ]
  },
  {
   "cell_type": "code",
   "execution_count": 8,
   "metadata": {},
   "outputs": [],
   "source": [
    "def prepare(df, to_list=['cast', 'country', 'listed_in', 'director'], to_lower=['title', 'director', 'cast']):\n",
    "    df = df.copy()\n",
    "    lower_columns(df, to_lower)\n",
    "    for column in to_list:\n",
    "        df[column] = df[column].str.split(', ')\n",
    "    df.title = df.title.str.replace(\"'\", \"\")\n",
    "    df.date_added = df.date_added.str.replace('^ ', '')\n",
    "    df.date_added = pd.to_datetime(df.date_added, format='%B %d, %Y')\n",
    "    return df"
   ]
  },
  {
   "cell_type": "code",
   "execution_count": 9,
   "metadata": {},
   "outputs": [],
   "source": [
    "enrichers = [add_oscars, add_imdb_raiting]\n",
    "def enrich(df):\n",
    "    df = df.copy()\n",
    "    for enricher in enrichers:\n",
    "        df = enricher(df)\n",
    "    return df"
   ]
  },
  {
   "cell_type": "code",
   "execution_count": 10,
   "metadata": {},
   "outputs": [
    {
     "name": "stderr",
     "output_type": "stream",
     "text": [
      "/home/rotem/Documents/code/ml-env/lib/python3.7/site-packages/ipykernel_launcher.py:3: DtypeWarning: Columns (5) have mixed types. Specify dtype option on import or set low_memory=False.\n",
      "  This is separate from the ipykernel package so we can avoid doing imports until\n"
     ]
    }
   ],
   "source": [
    "df = load_netflix_data()\n",
    "df = prepare(df)\n",
    "df = enrich(df)"
   ]
  },
  {
   "cell_type": "code",
   "execution_count": 11,
   "metadata": {},
   "outputs": [],
   "source": [
    "df.to_json(PATH + 'stage.json')"
   ]
  },
  {
   "cell_type": "code",
   "execution_count": null,
   "metadata": {},
   "outputs": [],
   "source": []
  }
 ],
 "metadata": {
  "kernelspec": {
   "display_name": "ml-env",
   "language": "python",
   "name": "ml-env"
  },
  "language_info": {
   "codemirror_mode": {
    "name": "ipython",
    "version": 3
   },
   "file_extension": ".py",
   "mimetype": "text/x-python",
   "name": "python",
   "nbconvert_exporter": "python",
   "pygments_lexer": "ipython3",
   "version": "3.7.5"
  }
 },
 "nbformat": 4,
 "nbformat_minor": 4
}
