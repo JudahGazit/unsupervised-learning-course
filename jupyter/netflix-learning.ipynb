{
 "cells": [
  {
   "cell_type": "code",
   "execution_count": 1,
   "metadata": {
    "pycharm": {
     "is_executing": false
    }
   },
   "outputs": [],
   "source": [
    "%load_ext autoreload\n",
    "%matplotlib inline\n",
    "%autoreload 2"
   ]
  },
  {
   "cell_type": "code",
   "execution_count": 2,
   "metadata": {
    "pycharm": {
     "is_executing": false
    }
   },
   "outputs": [],
   "source": [
    "from deco.imports import *\n",
    "from deco.context import *\n",
    "import json\n",
    "from pprint import pprint\n",
    "import sklearn.ensemble as st\n",
    "from datetime import datetime\n",
    "import random\n",
    "from math import sin, cos, sqrt, atan2, radians\n",
    "import networkx as nx\n",
    "import numpy as np\n",
    "from scipy.stats import norm\n",
    "import matplotlib.pyplot as plt\n",
    "import community\n",
    "from IPython.display import Image\n",
    "import researchpy as rp\n",
    "import scipy"
   ]
  },
  {
   "cell_type": "code",
   "execution_count": 3,
   "metadata": {
    "pycharm": {
     "is_executing": false
    }
   },
   "outputs": [],
   "source": [
    "PATH = '/home/rotem/Documents/code/unsupervised-learning/data/netflix/'"
   ]
  },
  {
   "cell_type": "code",
   "execution_count": 4,
   "metadata": {
    "pycharm": {
     "is_executing": false
    }
   },
   "outputs": [],
   "source": [
    "def is_favourite_country(countries, favourite={'United States', 'United Kingdom'}):\n",
    "    if countries and isinstance(countries, list):\n",
    "        return len(set(countries).intersection(favourite)) > 0\n",
    "    return False"
   ]
  },
  {
   "cell_type": "code",
   "execution_count": 5,
   "metadata": {
    "pycharm": {
     "is_executing": false
    }
   },
   "outputs": [],
   "source": [
    "def load_df():\n",
    "    df = pd.read_json(PATH + 'stage.json')\n",
    "    df = df[(df.type == 'Movie') & (df.averageRating >= 5)]\n",
    "    df = df[df.country.apply(is_favourite_country)]\n",
    "    df.cast = df.director + df.cast\n",
    "    return df"
   ]
  },
  {
   "cell_type": "code",
   "execution_count": 6,
   "metadata": {
    "pycharm": {
     "is_executing": false
    }
   },
   "outputs": [],
   "source": [
    "def create_edges(df):\n",
    "    df = df.copy()\n",
    "    df = df.explode('cast')\n",
    "    df = df.merge(df, on=['cast'], how='left')\n",
    "    df = df[['title_x', 'title_y', 'cast']]\n",
    "    df = df[df.title_x != df.title_y]\n",
    "    df = df.groupby(['title_x', 'title_y'], as_index=False).agg({'cast': 'count'})\n",
    "    df.columns = ['src', 'dst', 'weight']\n",
    "    return df"
   ]
  },
  {
   "cell_type": "code",
   "execution_count": 7,
   "metadata": {
    "pycharm": {
     "is_executing": false
    }
   },
   "outputs": [],
   "source": [
    "## weighting the order of the cast members\n",
    "def create_edges_cast(df):\n",
    "    df = df.copy()\n",
    "    df = df[df.cast.apply(lambda l: isinstance(l, list))]\n",
    "    df.cast = df.cast.apply(lambda l: [(2 ** (-i), x) for i, x in enumerate(l)] if isinstance(l, list) else None)\n",
    "    df = df.explode('cast')\n",
    "    df['cast_factor'] = df.cast.apply(lambda t: t[0] if t is not None else None)\n",
    "    df.cast = df.cast.apply(lambda t: t[1] if t is not None else None)\n",
    "    df = df.merge(df, on=['cast'], how='left')\n",
    "    df['cast_factor'] = df.cast_factor_x + df.cast_factor_y\n",
    "    df = df[['title_x', 'title_y', 'cast', 'cast_factor']]\n",
    "    df = df[df.title_x != df.title_y]\n",
    "    df = df.groupby(['title_x', 'title_y'], as_index=False).agg({'cast_factor': 'sum'})\n",
    "    df.columns = ['src', 'dst', 'weight']\n",
    "    return df\n",
    "\n",
    "def create_edges_listedin(df):\n",
    "    df = df.copy()\n",
    "    df = df.explode('listed_in')\n",
    "    df = df.merge(df, on=['listed_in'], how='left')\n",
    "    df = df[['title_x', 'title_y', 'listed_in']]\n",
    "    df = df[df.title_x != df.title_y]\n",
    "    df = df.groupby(['title_x', 'title_y'], as_index=False).agg({'listed_in': 'count'})\n",
    "    df.columns = ['src', 'dst', 'weight']\n",
    "    return df\n",
    "\n",
    "def create_edges(df):\n",
    "    cast = create_edges_cast(df)\n",
    "    listedin = create_edges_listedin(df)\n",
    "    edges = cast.merge(listedin, on=['src', 'dst'], how='left')\n",
    "    edges.weight_y = edges.weight_y.apply(lambda x: x + 1 if x > 0 else 1)\n",
    "    edges['weight'] = edges.weight_x * edges.weight_y \n",
    "    edges = edges[['src', 'dst', 'weight']]\n",
    "    return edges"
   ]
  },
  {
   "cell_type": "code",
   "execution_count": 8,
   "metadata": {
    "pycharm": {
     "is_executing": false
    }
   },
   "outputs": [],
   "source": [
    "def get_connected_components(edges):\n",
    "    G = nx.Graph()\n",
    "    G.add_weighted_edges_from(edges.values)\n",
    "    components = nx.algorithms.connected_components(G)\n",
    "    return list(components)"
   ]
  },
  {
   "cell_type": "code",
   "execution_count": 9,
   "metadata": {
    "pycharm": {
     "is_executing": false
    }
   },
   "outputs": [],
   "source": [
    "def get_graph_of_components(edges, component):\n",
    "    edges_filtered = [(i, j, w) for (i, j, w) in edges.values if i in component]\n",
    "    G = nx.Graph()\n",
    "    G.add_weighted_edges_from(edges_filtered)\n",
    "    return G"
   ]
  },
  {
   "cell_type": "code",
   "execution_count": 10,
   "metadata": {
    "pycharm": {
     "is_executing": false
    }
   },
   "outputs": [],
   "source": [
    "def community_stats(df, communities):\n",
    "    df = df.copy()\n",
    "    df['community'] = df.title.apply(lambda title: communities.get(title))\n",
    "    df['max_raiting'] = df.averageRating\n",
    "    df['min_raiting'] = df.averageRating\n",
    "    df['stdRating'] = df.averageRating\n",
    "    df['movie'] = df.type.apply(lambda t: 1 if t == 'Movie' else 0)\n",
    "    df['tv_show'] = df.type.apply(lambda t: 1 if t == 'TV Show' else 0)\n",
    "    df['win_movies'] = df.win.apply(lambda c: 1 if c > 0 else 0)\n",
    "    df['win_and_nominated_movies'] = df.win.apply(lambda c: 1 if c >= 0 else 0)\n",
    "    df = df.groupby(['community'], as_index=False).agg({'title': 'count',\n",
    "                                                        'averageRating': 'mean', \n",
    "                                                        'stdRating': 'std', \n",
    "                                                        'win': 'sum',\n",
    "                                                        'win_movies': 'sum',\n",
    "                                                        'win_and_nominated_movies': 'sum',\n",
    "                                                        'max_raiting': 'max',\n",
    "                                                        'min_raiting': 'min',\n",
    "                                                        'movie': 'sum',\n",
    "                                                        'tv_show': 'sum',\n",
    "                                                        })\n",
    "    df = df.sort_values(['title'], ascending=False)\n",
    "    return df"
   ]
  },
  {
   "cell_type": "code",
   "execution_count": 11,
   "metadata": {
    "pycharm": {
     "is_executing": false
    }
   },
   "outputs": [],
   "source": [
    "df = load_df()\n",
    "# df = df[df.listed_in.apply(lambda x: \n",
    "#                            not (len(set(x).intersection({'Documentaries', 'Children & Family Movies', 'Stand-Up Comedy', 'Horror Movies',}))) > 0)]\n",
    "edges = create_edges(df)\n",
    "# edges = edges[edges.weight > 1]\n",
    "# components = get_connected_components(edges)\n",
    "# component = components[0]\n",
    "graph = get_graph_of_components(edges, df.title.values)"
   ]
  },
  {
   "cell_type": "code",
   "execution_count": 12,
   "metadata": {
    "pycharm": {
     "is_executing": false
    }
   },
   "outputs": [
    {
     "data": {
      "image/png": "[encoded data removed]",
      "text/plain": [
       "<Figure size 432x288 with 1 Axes>"
      ]
     },
     "metadata": {
      "needs_background": "light"
     },
     "output_type": "display_data"
    }
   ],
   "source": [
    "deg = [_[1] for _ in list(graph.degree)]\n",
    "h = plt.hist(deg, bins=100)"
   ]
  },
  {
   "cell_type": "markdown",
   "metadata": {},
   "source": [
    "## Louvain"
   ]
  },
  {
   "cell_type": "code",
   "execution_count": 12,
   "metadata": {
    "pycharm": {
     "is_executing": false
    }
   },
   "outputs": [],
   "source": [
    "partition = community.best_partition(graph, resolution=20, random_state=False)"
   ]
  },
  {
   "cell_type": "code",
   "execution_count": 13,
   "metadata": {
    "pycharm": {
     "is_executing": false
    }
   },
   "outputs": [],
   "source": [
    "# another way using another lib\n",
    "\n",
    "import sknetwork as skn\n",
    "louvain = skn.clustering.Louvain('python', resolution=30, random_state=None)\n",
    "nodes_list = sorted(list(graph.nodes()))\n",
    "louvain.fit(nx.adj_matrix(graph, nodes_list))\n",
    "partition = dict(zip(nodes_list, louvain.labels_))"
   ]
  },
  {
   "cell_type": "code",
   "execution_count": 17,
   "metadata": {
    "pycharm": {
     "is_executing": false
    }
   },
   "outputs": [],
   "source": [
    "def stats_threshold(stats, threshold=7.9):\n",
    "    stats['g'] = stats.max_raiting.apply(lambda v: 1 if v >= threshold else 0)\n",
    "    stats_g = stats.groupby(['g']).agg({'title': 'sum', 'win_movies':'sum', 'win_and_nominated_movies': 'sum', \n",
    "                                        'max_raiting':'max', 'min_raiting': 'min', 'averageRating': 'mean'})\n",
    "    return stats_g"
   ]
  },
  {
   "cell_type": "code",
   "execution_count": 18,
   "metadata": {
    "pycharm": {
     "is_executing": false
    }
   },
   "outputs": [],
   "source": [
    "def precision_recall(stats_g):\n",
    "    stats_g = stats_g.copy()\n",
    "    total_win = stats_g.win_movies.sum()\n",
    "    total_win_and_nom = stats_g.win_and_nominated_movies.sum()\n",
    "    stats_g['win_precision'] = 100 * stats_g.win_movies / stats_g.title \n",
    "    stats_g['win_recall'] = 100 * stats_g.win_movies / total_win \n",
    "    stats_g['win_nom_precision'] = 100 * stats_g.win_and_nominated_movies / stats_g.title\n",
    "    stats_g['win_nom_recall'] = 100 * stats_g.win_and_nominated_movies / total_win_and_nom \n",
    "    return stats_g"
   ]
  },
  {
   "cell_type": "code",
   "execution_count": 103,
   "metadata": {
    "pycharm": {
     "is_executing": false
    }
   },
   "outputs": [
    {
     "data": {
      "text/html": [
       "<div>\n",
       "<style scoped>\n",
       "    .dataframe tbody tr th:only-of-type {\n",
       "        vertical-align: middle;\n",
       "    }\n",
       "\n",
       "    .dataframe tbody tr th {\n",
       "        vertical-align: top;\n",
       "    }\n",
       "\n",
       "    .dataframe thead th {\n",
       "        text-align: right;\n",
       "    }\n",
       "</style>\n",
       "<table border=\"1\" class=\"dataframe\">\n",
       "  <thead>\n",
       "    <tr style=\"text-align: right;\">\n",
       "      <th></th>\n",
       "      <th>title</th>\n",
       "      <th>win_movies</th>\n",
       "      <th>win_and_nominated_movies</th>\n",
       "      <th>max_raiting</th>\n",
       "      <th>min_raiting</th>\n",
       "      <th>averageRating</th>\n",
       "      <th>win_precision</th>\n",
       "      <th>win_recall</th>\n",
       "      <th>win_nom_precision</th>\n",
       "      <th>win_nom_recall</th>\n",
       "    </tr>\n",
       "    <tr>\n",
       "      <th>g</th>\n",
       "      <th></th>\n",
       "      <th></th>\n",
       "      <th></th>\n",
       "      <th></th>\n",
       "      <th></th>\n",
       "      <th></th>\n",
       "      <th></th>\n",
       "      <th></th>\n",
       "      <th></th>\n",
       "      <th></th>\n",
       "    </tr>\n",
       "  </thead>\n",
       "  <tbody>\n",
       "    <tr>\n",
       "      <th>0</th>\n",
       "      <td>932</td>\n",
       "      <td>26</td>\n",
       "      <td>95</td>\n",
       "      <td>7.899873</td>\n",
       "      <td>5.0</td>\n",
       "      <td>6.443143</td>\n",
       "      <td>2.789700</td>\n",
       "      <td>40.0</td>\n",
       "      <td>10.193133</td>\n",
       "      <td>56.886228</td>\n",
       "    </tr>\n",
       "    <tr>\n",
       "      <th>1</th>\n",
       "      <td>389</td>\n",
       "      <td>39</td>\n",
       "      <td>72</td>\n",
       "      <td>8.902625</td>\n",
       "      <td>5.0</td>\n",
       "      <td>7.100399</td>\n",
       "      <td>10.025707</td>\n",
       "      <td>60.0</td>\n",
       "      <td>18.508997</td>\n",
       "      <td>43.113772</td>\n",
       "    </tr>\n",
       "  </tbody>\n",
       "</table>\n",
       "</div>"
      ],
      "text/plain": [
       "   title  win_movies  win_and_nominated_movies  max_raiting  min_raiting  \\\n",
       "g                                                                          \n",
       "0    932          26                        95     7.899873          5.0   \n",
       "1    389          39                        72     8.902625          5.0   \n",
       "\n",
       "   averageRating  win_precision  win_recall  win_nom_precision  win_nom_recall  \n",
       "g                                                                               \n",
       "0       6.443143       2.789700        40.0          10.193133       56.886228  \n",
       "1       7.100399      10.025707        60.0          18.508997       43.113772  "
      ]
     },
     "execution_count": 103,
     "metadata": {},
     "output_type": "execute_result"
    }
   ],
   "source": [
    "stats = community_stats(df, partition)\n",
    "stats_g = stats_threshold(stats, 7.9)\n",
    "precision_recall(stats_g)"
   ]
  },
  {
   "cell_type": "code",
   "execution_count": 20,
   "metadata": {},
   "outputs": [
    {
     "data": {
      "text/plain": [
       "389"
      ]
     },
     "metadata": {},
     "output_type": "display_data"
    }
   ],
   "source": [
    "in_1 = [k for k in df.title.values if partition.get(k) in stats[stats.g == 1].community.values]\n",
    "display(len(in_1))\n",
    "graph_in_1 = get_graph_of_components(edges, in_1)"
   ]
  },
  {
   "cell_type": "code",
   "execution_count": 21,
   "metadata": {
    "pycharm": {
     "is_executing": false
    }
   },
   "outputs": [
    {
     "data": {
      "text/html": [
       "<div>\n",
       "<style scoped>\n",
       "    .dataframe tbody tr th:only-of-type {\n",
       "        vertical-align: middle;\n",
       "    }\n",
       "\n",
       "    .dataframe tbody tr th {\n",
       "        vertical-align: top;\n",
       "    }\n",
       "\n",
       "    .dataframe thead th {\n",
       "        text-align: right;\n",
       "    }\n",
       "</style>\n",
       "<table border=\"1\" class=\"dataframe\">\n",
       "  <thead>\n",
       "    <tr style=\"text-align: right;\">\n",
       "      <th></th>\n",
       "      <th>community</th>\n",
       "      <th>title</th>\n",
       "      <th>averageRating</th>\n",
       "      <th>stdRating</th>\n",
       "      <th>win</th>\n",
       "      <th>win_movies</th>\n",
       "      <th>win_and_nominated_movies</th>\n",
       "      <th>max_raiting</th>\n",
       "      <th>min_raiting</th>\n",
       "      <th>movie</th>\n",
       "      <th>tv_show</th>\n",
       "      <th>g</th>\n",
       "    </tr>\n",
       "  </thead>\n",
       "  <tbody>\n",
       "    <tr>\n",
       "      <th>0</th>\n",
       "      <td>0.0</td>\n",
       "      <td>20</td>\n",
       "      <td>6.148992</td>\n",
       "      <td>0.939511</td>\n",
       "      <td>0.0</td>\n",
       "      <td>0</td>\n",
       "      <td>0</td>\n",
       "      <td>8.225518</td>\n",
       "      <td>5.200000</td>\n",
       "      <td>20</td>\n",
       "      <td>0</td>\n",
       "      <td>1</td>\n",
       "    </tr>\n",
       "    <tr>\n",
       "      <th>117</th>\n",
       "      <td>117.0</td>\n",
       "      <td>5</td>\n",
       "      <td>5.833039</td>\n",
       "      <td>0.614316</td>\n",
       "      <td>0.0</td>\n",
       "      <td>0</td>\n",
       "      <td>0</td>\n",
       "      <td>6.622524</td>\n",
       "      <td>5.300000</td>\n",
       "      <td>5</td>\n",
       "      <td>0</td>\n",
       "      <td>0</td>\n",
       "    </tr>\n",
       "    <tr>\n",
       "      <th>121</th>\n",
       "      <td>121.0</td>\n",
       "      <td>5</td>\n",
       "      <td>6.813732</td>\n",
       "      <td>0.975208</td>\n",
       "      <td>0.0</td>\n",
       "      <td>0</td>\n",
       "      <td>1</td>\n",
       "      <td>7.708018</td>\n",
       "      <td>5.396245</td>\n",
       "      <td>5</td>\n",
       "      <td>0</td>\n",
       "      <td>0</td>\n",
       "    </tr>\n",
       "    <tr>\n",
       "      <th>124</th>\n",
       "      <td>124.0</td>\n",
       "      <td>5</td>\n",
       "      <td>7.100000</td>\n",
       "      <td>0.764853</td>\n",
       "      <td>0.0</td>\n",
       "      <td>0</td>\n",
       "      <td>0</td>\n",
       "      <td>8.000000</td>\n",
       "      <td>6.100000</td>\n",
       "      <td>5</td>\n",
       "      <td>0</td>\n",
       "      <td>1</td>\n",
       "    </tr>\n",
       "    <tr>\n",
       "      <th>126</th>\n",
       "      <td>126.0</td>\n",
       "      <td>5</td>\n",
       "      <td>6.039968</td>\n",
       "      <td>1.045400</td>\n",
       "      <td>0.0</td>\n",
       "      <td>0</td>\n",
       "      <td>0</td>\n",
       "      <td>7.499983</td>\n",
       "      <td>5.200092</td>\n",
       "      <td>5</td>\n",
       "      <td>0</td>\n",
       "      <td>0</td>\n",
       "    </tr>\n",
       "    <tr>\n",
       "      <th>...</th>\n",
       "      <td>...</td>\n",
       "      <td>...</td>\n",
       "      <td>...</td>\n",
       "      <td>...</td>\n",
       "      <td>...</td>\n",
       "      <td>...</td>\n",
       "      <td>...</td>\n",
       "      <td>...</td>\n",
       "      <td>...</td>\n",
       "      <td>...</td>\n",
       "      <td>...</td>\n",
       "      <td>...</td>\n",
       "    </tr>\n",
       "    <tr>\n",
       "      <th>120</th>\n",
       "      <td>120.0</td>\n",
       "      <td>5</td>\n",
       "      <td>7.534985</td>\n",
       "      <td>0.402998</td>\n",
       "      <td>5.0</td>\n",
       "      <td>2</td>\n",
       "      <td>4</td>\n",
       "      <td>7.999971</td>\n",
       "      <td>6.900000</td>\n",
       "      <td>5</td>\n",
       "      <td>0</td>\n",
       "      <td>1</td>\n",
       "    </tr>\n",
       "    <tr>\n",
       "      <th>8</th>\n",
       "      <td>8.0</td>\n",
       "      <td>12</td>\n",
       "      <td>6.192584</td>\n",
       "      <td>1.004778</td>\n",
       "      <td>5.0</td>\n",
       "      <td>2</td>\n",
       "      <td>2</td>\n",
       "      <td>8.000000</td>\n",
       "      <td>5.000000</td>\n",
       "      <td>12</td>\n",
       "      <td>0</td>\n",
       "      <td>1</td>\n",
       "    </tr>\n",
       "    <tr>\n",
       "      <th>102</th>\n",
       "      <td>102.0</td>\n",
       "      <td>6</td>\n",
       "      <td>7.433114</td>\n",
       "      <td>0.950224</td>\n",
       "      <td>3.0</td>\n",
       "      <td>2</td>\n",
       "      <td>3</td>\n",
       "      <td>8.300501</td>\n",
       "      <td>5.700000</td>\n",
       "      <td>6</td>\n",
       "      <td>0</td>\n",
       "      <td>1</td>\n",
       "    </tr>\n",
       "    <tr>\n",
       "      <th>150</th>\n",
       "      <td>150.0</td>\n",
       "      <td>5</td>\n",
       "      <td>7.073855</td>\n",
       "      <td>0.296692</td>\n",
       "      <td>2.0</td>\n",
       "      <td>2</td>\n",
       "      <td>2</td>\n",
       "      <td>7.400000</td>\n",
       "      <td>6.669276</td>\n",
       "      <td>5</td>\n",
       "      <td>0</td>\n",
       "      <td>0</td>\n",
       "    </tr>\n",
       "    <tr>\n",
       "      <th>69</th>\n",
       "      <td>69.0</td>\n",
       "      <td>7</td>\n",
       "      <td>7.985715</td>\n",
       "      <td>0.530499</td>\n",
       "      <td>3.0</td>\n",
       "      <td>3</td>\n",
       "      <td>4</td>\n",
       "      <td>8.900002</td>\n",
       "      <td>7.300000</td>\n",
       "      <td>7</td>\n",
       "      <td>0</td>\n",
       "      <td>1</td>\n",
       "    </tr>\n",
       "  </tbody>\n",
       "</table>\n",
       "<p>226 rows × 12 columns</p>\n",
       "</div>"
      ],
      "text/plain": [
       "     community  title  averageRating  stdRating  win  win_movies  \\\n",
       "0          0.0     20       6.148992   0.939511  0.0           0   \n",
       "117      117.0      5       5.833039   0.614316  0.0           0   \n",
       "121      121.0      5       6.813732   0.975208  0.0           0   \n",
       "124      124.0      5       7.100000   0.764853  0.0           0   \n",
       "126      126.0      5       6.039968   1.045400  0.0           0   \n",
       "..         ...    ...            ...        ...  ...         ...   \n",
       "120      120.0      5       7.534985   0.402998  5.0           2   \n",
       "8          8.0     12       6.192584   1.004778  5.0           2   \n",
       "102      102.0      6       7.433114   0.950224  3.0           2   \n",
       "150      150.0      5       7.073855   0.296692  2.0           2   \n",
       "69        69.0      7       7.985715   0.530499  3.0           3   \n",
       "\n",
       "     win_and_nominated_movies  max_raiting  min_raiting  movie  tv_show  g  \n",
       "0                           0     8.225518     5.200000     20        0  1  \n",
       "117                         0     6.622524     5.300000      5        0  0  \n",
       "121                         1     7.708018     5.396245      5        0  0  \n",
       "124                         0     8.000000     6.100000      5        0  1  \n",
       "126                         0     7.499983     5.200092      5        0  0  \n",
       "..                        ...          ...          ...    ...      ... ..  \n",
       "120                         4     7.999971     6.900000      5        0  1  \n",
       "8                           2     8.000000     5.000000     12        0  1  \n",
       "102                         3     8.300501     5.700000      6        0  1  \n",
       "150                         2     7.400000     6.669276      5        0  0  \n",
       "69                          4     8.900002     7.300000      7        0  1  \n",
       "\n",
       "[226 rows x 12 columns]"
      ]
     },
     "execution_count": 21,
     "metadata": {},
     "output_type": "execute_result"
    }
   ],
   "source": [
    "stats[stats.title >= 0].sort_values('win_movies')"
   ]
  },
  {
   "cell_type": "markdown",
   "metadata": {},
   "source": [
    "## Hypothesis Testing"
   ]
  },
  {
   "cell_type": "code",
   "execution_count": 206,
   "metadata": {},
   "outputs": [
    {
     "name": "stdout",
     "output_type": "stream",
     "text": [
      "\n",
      "\n"
     ]
    },
    {
     "data": {
      "text/html": [
       "<div>\n",
       "<style scoped>\n",
       "    .dataframe tbody tr th:only-of-type {\n",
       "        vertical-align: middle;\n",
       "    }\n",
       "\n",
       "    .dataframe tbody tr th {\n",
       "        vertical-align: top;\n",
       "    }\n",
       "\n",
       "    .dataframe thead th {\n",
       "        text-align: right;\n",
       "    }\n",
       "</style>\n",
       "<table border=\"1\" class=\"dataframe\">\n",
       "  <thead>\n",
       "    <tr style=\"text-align: right;\">\n",
       "      <th></th>\n",
       "      <th>N</th>\n",
       "      <th>Mean</th>\n",
       "      <th>SD</th>\n",
       "      <th>SE</th>\n",
       "      <th>95% Conf.</th>\n",
       "      <th>Interval</th>\n",
       "    </tr>\n",
       "    <tr>\n",
       "      <th>g</th>\n",
       "      <th></th>\n",
       "      <th></th>\n",
       "      <th></th>\n",
       "      <th></th>\n",
       "      <th></th>\n",
       "      <th></th>\n",
       "    </tr>\n",
       "  </thead>\n",
       "  <tbody>\n",
       "    <tr>\n",
       "      <th>0</th>\n",
       "      <td>932</td>\n",
       "      <td>6.405297</td>\n",
       "      <td>0.712946</td>\n",
       "      <td>0.023353</td>\n",
       "      <td>6.359500</td>\n",
       "      <td>6.451094</td>\n",
       "    </tr>\n",
       "    <tr>\n",
       "      <th>1</th>\n",
       "      <td>389</td>\n",
       "      <td>6.924327</td>\n",
       "      <td>0.993175</td>\n",
       "      <td>0.050356</td>\n",
       "      <td>6.825502</td>\n",
       "      <td>7.023152</td>\n",
       "    </tr>\n",
       "  </tbody>\n",
       "</table>\n",
       "</div>"
      ],
      "text/plain": [
       "     N      Mean        SD        SE  95% Conf.  Interval\n",
       "g                                                        \n",
       "0  932  6.405297  0.712946  0.023353   6.359500  6.451094\n",
       "1  389  6.924327  0.993175  0.050356   6.825502  7.023152"
      ]
     },
     "metadata": {},
     "output_type": "display_data"
    },
    {
     "data": {
      "text/plain": [
       "LeveneResult(statistic=19.499588335639697, pvalue=1.6536743637131594e-05)"
      ]
     },
     "metadata": {},
     "output_type": "display_data"
    },
    {
     "data": {
      "image/png": "[encoded data removed]",
      "text/plain": [
       "<Figure size 432x288 with 1 Axes>"
      ]
     },
     "metadata": {
      "needs_background": "light"
     },
     "output_type": "display_data"
    },
    {
     "data": {
      "image/png": "[encoded data removed]",
      "text/plain": [
       "<Figure size 432x288 with 1 Axes>"
      ]
     },
     "metadata": {
      "needs_background": "light"
     },
     "output_type": "display_data"
    },
    {
     "data": {
      "text/plain": [
       "'Shapiro on diff:'"
      ]
     },
     "metadata": {},
     "output_type": "display_data"
    },
    {
     "data": {
      "text/plain": [
       "(0.9839091300964355, 0.26428964734077454)"
      ]
     },
     "metadata": {},
     "output_type": "display_data"
    },
    {
     "data": {
      "text/plain": [
       "Ttest_indResult(statistic=-3.148738570761908, pvalue=0.0019213172912959872)"
      ]
     },
     "metadata": {},
     "output_type": "display_data"
    }
   ],
   "source": [
    "title_and_community = pd.DataFrame(partition.items(), columns=['title', 'community'])\\\n",
    "                        .merge(stats[['community', 'g']], on=['community'])\\\n",
    "                        .merge(df, on=['title'])\n",
    "title_and_community.win = title_and_community.win.apply(lambda v: v if v > 1 else 0)\n",
    "col = 'averageRating'\n",
    "summ = rp.summary_cont(title_and_community.groupby(['g'])[col])\n",
    "display(summ)\n",
    "g0 = title_and_community[title_and_community.g == 0].sample(n=100)\n",
    "g0.reset_index(inplace=True)\n",
    "g1 = title_and_community[title_and_community.g == 1].sample(n=100)\n",
    "g1.reset_index(inplace=True)\n",
    "\n",
    "levene_homogenity = scipy.stats.levene(g0[col], g1[col])\n",
    "display(levene_homogenity)\n",
    "diff = g1[col] - g0[col]\n",
    "scipy.stats.probplot(diff, plot= plt)\n",
    "plt.title('Raiting P-P Plot') \n",
    "plt.show()\n",
    "diff.plot(kind= \"hist\", title= \"Raiting Residuals\", bins=30)\n",
    "plt.show()\n",
    "display('Shapiro on diff:', scipy.stats.shapiro(diff))\n",
    "display(scipy.stats.ttest_ind(g0[col], g1[col], equal_var=False))"
   ]
  },
  {
   "cell_type": "code",
   "execution_count": null,
   "metadata": {},
   "outputs": [],
   "source": []
  },
  {
   "cell_type": "markdown",
   "metadata": {},
   "source": [
    "## Hierarhy Clustering"
   ]
  },
  {
   "cell_type": "code",
   "execution_count": 22,
   "metadata": {},
   "outputs": [
    {
     "name": "stderr",
     "output_type": "stream",
     "text": [
      "/home/rotem/Documents/code/ml-env/lib/python3.7/site-packages/sklearn/cluster/_agglomerative.py:468: ClusterWarning: scipy.cluster: The symmetric non-negative hollow observation matrix looks suspiciously like an uncondensed distance matrix\n",
      "  out = hierarchy.linkage(X, method=linkage, metric=affinity)\n"
     ]
    },
    {
     "data": {
      "text/html": [
       "<div>\n",
       "<style scoped>\n",
       "    .dataframe tbody tr th:only-of-type {\n",
       "        vertical-align: middle;\n",
       "    }\n",
       "\n",
       "    .dataframe tbody tr th {\n",
       "        vertical-align: top;\n",
       "    }\n",
       "\n",
       "    .dataframe thead th {\n",
       "        text-align: right;\n",
       "    }\n",
       "</style>\n",
       "<table border=\"1\" class=\"dataframe\">\n",
       "  <thead>\n",
       "    <tr style=\"text-align: right;\">\n",
       "      <th></th>\n",
       "      <th>title</th>\n",
       "      <th>win_movies</th>\n",
       "      <th>win_and_nominated_movies</th>\n",
       "      <th>max_raiting</th>\n",
       "      <th>min_raiting</th>\n",
       "      <th>averageRating</th>\n",
       "      <th>win_precision</th>\n",
       "      <th>win_recall</th>\n",
       "      <th>win_nom_precision</th>\n",
       "      <th>win_nom_recall</th>\n",
       "    </tr>\n",
       "    <tr>\n",
       "      <th>g</th>\n",
       "      <th></th>\n",
       "      <th></th>\n",
       "      <th></th>\n",
       "      <th></th>\n",
       "      <th></th>\n",
       "      <th></th>\n",
       "      <th></th>\n",
       "      <th></th>\n",
       "      <th></th>\n",
       "      <th></th>\n",
       "    </tr>\n",
       "  </thead>\n",
       "  <tbody>\n",
       "    <tr>\n",
       "      <th>0</th>\n",
       "      <td>34</td>\n",
       "      <td>1</td>\n",
       "      <td>4</td>\n",
       "      <td>7.600000</td>\n",
       "      <td>5.2</td>\n",
       "      <td>6.602447</td>\n",
       "      <td>2.941176</td>\n",
       "      <td>2.564103</td>\n",
       "      <td>11.764706</td>\n",
       "      <td>5.555556</td>\n",
       "    </tr>\n",
       "    <tr>\n",
       "      <th>1</th>\n",
       "      <td>355</td>\n",
       "      <td>38</td>\n",
       "      <td>68</td>\n",
       "      <td>8.902625</td>\n",
       "      <td>5.0</td>\n",
       "      <td>7.898179</td>\n",
       "      <td>10.704225</td>\n",
       "      <td>97.435897</td>\n",
       "      <td>19.154930</td>\n",
       "      <td>94.444444</td>\n",
       "    </tr>\n",
       "  </tbody>\n",
       "</table>\n",
       "</div>"
      ],
      "text/plain": [
       "   title  win_movies  win_and_nominated_movies  max_raiting  min_raiting  \\\n",
       "g                                                                          \n",
       "0     34           1                         4     7.600000          5.2   \n",
       "1    355          38                        68     8.902625          5.0   \n",
       "\n",
       "   averageRating  win_precision  win_recall  win_nom_precision  win_nom_recall  \n",
       "g                                                                               \n",
       "0       6.602447       2.941176    2.564103          11.764706        5.555556  \n",
       "1       7.898179      10.704225   97.435897          19.154930       94.444444  "
      ]
     },
     "execution_count": 22,
     "metadata": {},
     "output_type": "execute_result"
    }
   ],
   "source": [
    "from sklearn.cluster import AgglomerativeClustering\n",
    "sc = AgglomerativeClustering(50, 'l2', linkage='complete')\n",
    "nodes_list = sorted(graph_in_1.nodes())\n",
    "adj_mat = nx.to_numpy_matrix(graph_in_1, nodes_list)\n",
    "lables = list(zip(nodes_list, sc.fit_predict(adj_mat)))\n",
    "\n",
    "scdf = pd.DataFrame(lables, columns=['title', 'cluster'])\n",
    "stats = community_stats(df[df.title.isin(in_1)], dict(lables))\n",
    "stats_g = stats_threshold(stats)\n",
    "precision_recall(stats_g)"
   ]
  },
  {
   "cell_type": "markdown",
   "metadata": {},
   "source": [
    "## Spectracl Clustering"
   ]
  },
  {
   "cell_type": "code",
   "execution_count": 210,
   "metadata": {},
   "outputs": [
    {
     "name": "stderr",
     "output_type": "stream",
     "text": [
      "/home/rotem/Documents/code/ml-env/lib/python3.7/site-packages/sklearn/cluster/_spectral.py:482: UserWarning: The spectral clustering API has changed. ``fit``now constructs an affinity matrix from data. To use a custom affinity matrix, set ``affinity=precomputed``.\n",
      "  warnings.warn(\"The spectral clustering API has changed. ``fit``\"\n",
      "/home/rotem/Documents/code/ml-env/lib/python3.7/site-packages/sklearn/manifold/_spectral_embedding.py:236: UserWarning: Graph is not fully connected, spectral embedding may not work as expected.\n",
      "  warnings.warn(\"Graph is not fully connected, spectral embedding\"\n",
      "/home/rotem/Documents/code/ml-env/lib/python3.7/site-packages/sklearn/cluster/_kmeans.py:296: ConvergenceWarning: Number of distinct clusters (3) found smaller than n_clusters (100). Possibly due to duplicate points in X.\n",
      "  ).fit(X, sample_weight=sample_weight)\n"
     ]
    },
    {
     "data": {
      "text/html": [
       "<div>\n",
       "<style scoped>\n",
       "    .dataframe tbody tr th:only-of-type {\n",
       "        vertical-align: middle;\n",
       "    }\n",
       "\n",
       "    .dataframe tbody tr th {\n",
       "        vertical-align: top;\n",
       "    }\n",
       "\n",
       "    .dataframe thead th {\n",
       "        text-align: right;\n",
       "    }\n",
       "</style>\n",
       "<table border=\"1\" class=\"dataframe\">\n",
       "  <thead>\n",
       "    <tr style=\"text-align: right;\">\n",
       "      <th></th>\n",
       "      <th>title</th>\n",
       "      <th>win_movies</th>\n",
       "      <th>win_and_nominated_movies</th>\n",
       "      <th>max_raiting</th>\n",
       "      <th>min_raiting</th>\n",
       "      <th>averageRating</th>\n",
       "      <th>win_precision</th>\n",
       "      <th>win_recall</th>\n",
       "      <th>win_nom_precision</th>\n",
       "      <th>win_nom_recall</th>\n",
       "    </tr>\n",
       "    <tr>\n",
       "      <th>g</th>\n",
       "      <th></th>\n",
       "      <th></th>\n",
       "      <th></th>\n",
       "      <th></th>\n",
       "      <th></th>\n",
       "      <th></th>\n",
       "      <th></th>\n",
       "      <th></th>\n",
       "      <th></th>\n",
       "      <th></th>\n",
       "    </tr>\n",
       "  </thead>\n",
       "  <tbody>\n",
       "    <tr>\n",
       "      <th>0</th>\n",
       "      <td>3</td>\n",
       "      <td>2</td>\n",
       "      <td>3</td>\n",
       "      <td>7.300000</td>\n",
       "      <td>6.8</td>\n",
       "      <td>7.000000</td>\n",
       "      <td>66.666667</td>\n",
       "      <td>4.255319</td>\n",
       "      <td>100.000000</td>\n",
       "      <td>3.225806</td>\n",
       "    </tr>\n",
       "    <tr>\n",
       "      <th>1</th>\n",
       "      <td>477</td>\n",
       "      <td>45</td>\n",
       "      <td>90</td>\n",
       "      <td>8.902625</td>\n",
       "      <td>4.3</td>\n",
       "      <td>6.806188</td>\n",
       "      <td>9.433962</td>\n",
       "      <td>95.744681</td>\n",
       "      <td>18.867925</td>\n",
       "      <td>96.774194</td>\n",
       "    </tr>\n",
       "  </tbody>\n",
       "</table>\n",
       "</div>"
      ],
      "text/plain": [
       "   title  win_movies  win_and_nominated_movies  max_raiting  min_raiting  \\\n",
       "g                                                                          \n",
       "0      3           2                         3     7.300000          6.8   \n",
       "1    477          45                        90     8.902625          4.3   \n",
       "\n",
       "   averageRating  win_precision  win_recall  win_nom_precision  win_nom_recall  \n",
       "g                                                                               \n",
       "0       7.000000      66.666667    4.255319         100.000000        3.225806  \n",
       "1       6.806188       9.433962   95.744681          18.867925       96.774194  "
      ]
     },
     "execution_count": 210,
     "metadata": {},
     "output_type": "execute_result"
    }
   ],
   "source": [
    "from sklearn.cluster import SpectralClustering\n",
    "sc = SpectralClustering(100)\n",
    "nodes_list = sorted(graph_in_1.nodes())\n",
    "adj_mat = nx.to_numpy_matrix(graph_in_1, nodes_list)\n",
    "lables = list(zip(nodes_list, sc.fit_predict(adj_mat)))\n",
    "\n",
    "scdf = pd.DataFrame(lables, columns=['title', 'cluster'])\n",
    "stats = community_stats(df[df.title.isin(in_1)], dict(lables))\n",
    "stats_g = stats_threshold(stats)\n",
    "precision_recall(stats_g)"
   ]
  },
  {
   "cell_type": "markdown",
   "metadata": {},
   "source": [
    "## TSNE"
   ]
  },
  {
   "cell_type": "code",
   "execution_count": 183,
   "metadata": {},
   "outputs": [],
   "source": [
    "from sklearn import manifold\n",
    "items = sorted(graph.nodes())\n",
    "g_edges = [k for k, v in partition.items()]# if v in stats[stats['g'] == 1].community.values]\n",
    "only_comp_edges_ = [(items.index(i), items.index(j), 1/w) for (i, j, w) in edges.values if i in g_edges and j in g_edges]"
   ]
  },
  {
   "cell_type": "code",
   "execution_count": 184,
   "metadata": {},
   "outputs": [],
   "source": [
    "gg = nx.Graph()\n",
    "gg.add_weighted_edges_from(only_comp_edges_)"
   ]
  },
  {
   "cell_type": "code",
   "execution_count": 241,
   "metadata": {},
   "outputs": [
    {
     "name": "stderr",
     "output_type": "stream",
     "text": [
      "/home/rotem/Documents/code/ml-env/lib/python3.7/site-packages/sklearn/manifold/_mds.py:419: UserWarning: The MDS API has changed. ``fit`` now constructs an dissimilarity matrix from data. To use a custom dissimilarity matrix, set ``dissimilarity='precomputed'``.\n",
      "  warnings.warn(\"The MDS API has changed. ``fit`` now constructs an\"\n"
     ]
    }
   ],
   "source": [
    "mds = manifold.MDS(2, metric=True )\n",
    "mat = nx.adj_matrix(gg, nodelist=items)\n",
    "trs = mds.fit_transform(nx.adj_matrix(gg).toarray())"
   ]
  },
  {
   "cell_type": "code",
   "execution_count": 242,
   "metadata": {},
   "outputs": [
    {
     "data": {
      "text/plain": [
       "<matplotlib.collections.PathCollection at 0x7ff12bd39750>"
      ]
     },
     "execution_count": 242,
     "metadata": {},
     "output_type": "execute_result"
    },
    {
     "data": {
      "image/png": "[encoded data removed]",
      "text/plain": [
       "<Figure size 432x288 with 1 Axes>"
      ]
     },
     "metadata": {
      "needs_background": "light"
     },
     "output_type": "display_data"
    }
   ],
   "source": [
    "plt.scatter([_[0] for _ in trs], [_[1] for _ in trs])"
   ]
  },
  {
   "cell_type": "code",
   "execution_count": 235,
   "metadata": {},
   "outputs": [],
   "source": [
    "from sklearn.cluster import KMeans\n",
    "kmeans = KMeans(8)\n",
    "pred = kmeans.fit_predict(trs)"
   ]
  },
  {
   "cell_type": "code",
   "execution_count": 191,
   "metadata": {},
   "outputs": [],
   "source": [
    "from sklearn.mixture import GaussianMixture\n",
    "kmeans = GaussianMixture(3)\n",
    "pred = kmeans.fit_predict(trs)"
   ]
  },
  {
   "cell_type": "code",
   "execution_count": 251,
   "metadata": {},
   "outputs": [],
   "source": [
    "from sklearn.cluster import DBSCAN\n",
    "kmeans = DBSCAN(3000)\n",
    "pred = kmeans.fit_predict(trs)"
   ]
  },
  {
   "cell_type": "code",
   "execution_count": 222,
   "metadata": {},
   "outputs": [],
   "source": [
    "pred = []\n",
    "for t in trs:\n",
    "    if -200 <= t[0] <= 150 and -200 <= t[1] <= 200:\n",
    "        pred.append(1)\n",
    "    else:\n",
    "        pred.append(0)"
   ]
  },
  {
   "cell_type": "code",
   "execution_count": 252,
   "metadata": {},
   "outputs": [
    {
     "data": {
      "text/html": [
       "<div>\n",
       "<style scoped>\n",
       "    .dataframe tbody tr th:only-of-type {\n",
       "        vertical-align: middle;\n",
       "    }\n",
       "\n",
       "    .dataframe tbody tr th {\n",
       "        vertical-align: top;\n",
       "    }\n",
       "\n",
       "    .dataframe thead th {\n",
       "        text-align: right;\n",
       "    }\n",
       "</style>\n",
       "<table border=\"1\" class=\"dataframe\">\n",
       "  <thead>\n",
       "    <tr style=\"text-align: right;\">\n",
       "      <th></th>\n",
       "      <th>community</th>\n",
       "      <th>title</th>\n",
       "      <th>averageRating</th>\n",
       "      <th>stdRating</th>\n",
       "      <th>win</th>\n",
       "      <th>win_movies</th>\n",
       "      <th>win_and_nominated_movies</th>\n",
       "      <th>max_raiting</th>\n",
       "      <th>min_raiting</th>\n",
       "      <th>movie</th>\n",
       "      <th>tv_show</th>\n",
       "      <th>win_precision</th>\n",
       "      <th>win_recall</th>\n",
       "      <th>win_nom_precision</th>\n",
       "      <th>win_nom_recall</th>\n",
       "    </tr>\n",
       "  </thead>\n",
       "  <tbody>\n",
       "    <tr>\n",
       "      <th>1</th>\n",
       "      <td>0.0</td>\n",
       "      <td>1306</td>\n",
       "      <td>6.555975</td>\n",
       "      <td>0.839158</td>\n",
       "      <td>125.0</td>\n",
       "      <td>61</td>\n",
       "      <td>163</td>\n",
       "      <td>8.902625</td>\n",
       "      <td>5.000000</td>\n",
       "      <td>1306</td>\n",
       "      <td>0</td>\n",
       "      <td>4.670750</td>\n",
       "      <td>93.846154</td>\n",
       "      <td>12.480858</td>\n",
       "      <td>97.60479</td>\n",
       "    </tr>\n",
       "    <tr>\n",
       "      <th>0</th>\n",
       "      <td>-1.0</td>\n",
       "      <td>15</td>\n",
       "      <td>6.746479</td>\n",
       "      <td>0.860832</td>\n",
       "      <td>7.0</td>\n",
       "      <td>4</td>\n",
       "      <td>4</td>\n",
       "      <td>7.900000</td>\n",
       "      <td>5.102411</td>\n",
       "      <td>15</td>\n",
       "      <td>0</td>\n",
       "      <td>26.666667</td>\n",
       "      <td>6.153846</td>\n",
       "      <td>26.666667</td>\n",
       "      <td>2.39521</td>\n",
       "    </tr>\n",
       "  </tbody>\n",
       "</table>\n",
       "</div>"
      ],
      "text/plain": [
       "   community  title  averageRating  stdRating    win  win_movies  \\\n",
       "1        0.0   1306       6.555975   0.839158  125.0          61   \n",
       "0       -1.0     15       6.746479   0.860832    7.0           4   \n",
       "\n",
       "   win_and_nominated_movies  max_raiting  min_raiting  movie  tv_show  \\\n",
       "1                       163     8.902625     5.000000   1306        0   \n",
       "0                         4     7.900000     5.102411     15        0   \n",
       "\n",
       "   win_precision  win_recall  win_nom_precision  win_nom_recall  \n",
       "1       4.670750   93.846154          12.480858        97.60479  \n",
       "0      26.666667    6.153846          26.666667         2.39521  "
      ]
     },
     "execution_count": 252,
     "metadata": {},
     "output_type": "execute_result"
    },
    {
     "data": {
      "image/png": "[encoded data removed]",
      "text/plain": [
       "<Figure size 432x288 with 1 Axes>"
      ]
     },
     "metadata": {
      "needs_background": "light"
     },
     "output_type": "display_data"
    }
   ],
   "source": [
    "trs_pred = pd.DataFrame(zip(items, trs, pred), columns=['title', 'xy', 'cluster'] )\n",
    "# plt.scatter([_[0] for _ in e], [_[1] for _ in e])\n",
    "trs_pred_g = trs_pred.groupby(['cluster'])\n",
    "trs_pred_g.xy = trs_pred_g.xy.apply(list)\n",
    "for v in trs_pred_g.xy.values:\n",
    "    plt.scatter([_[0] for _ in v], [_[1] for _ in v])\n",
    "precision_recall(community_stats(df, dict(trs_pred[['title', 'cluster']].values)))"
   ]
  },
  {
   "cell_type": "code",
   "execution_count": 244,
   "metadata": {},
   "outputs": [
    {
     "data": {
      "text/html": [
       "<div>\n",
       "<style scoped>\n",
       "    .dataframe tbody tr th:only-of-type {\n",
       "        vertical-align: middle;\n",
       "    }\n",
       "\n",
       "    .dataframe tbody tr th {\n",
       "        vertical-align: top;\n",
       "    }\n",
       "\n",
       "    .dataframe thead th {\n",
       "        text-align: right;\n",
       "    }\n",
       "</style>\n",
       "<table border=\"1\" class=\"dataframe\">\n",
       "  <thead>\n",
       "    <tr style=\"text-align: right;\">\n",
       "      <th></th>\n",
       "      <th>dist</th>\n",
       "      <th>win</th>\n",
       "      <th>averageRating</th>\n",
       "    </tr>\n",
       "  </thead>\n",
       "  <tbody>\n",
       "    <tr>\n",
       "      <th>dist</th>\n",
       "      <td>1.000000</td>\n",
       "      <td>0.124685</td>\n",
       "      <td>0.029833</td>\n",
       "    </tr>\n",
       "    <tr>\n",
       "      <th>win</th>\n",
       "      <td>0.124685</td>\n",
       "      <td>1.000000</td>\n",
       "      <td>0.231998</td>\n",
       "    </tr>\n",
       "    <tr>\n",
       "      <th>averageRating</th>\n",
       "      <td>0.029833</td>\n",
       "      <td>0.231998</td>\n",
       "      <td>1.000000</td>\n",
       "    </tr>\n",
       "  </tbody>\n",
       "</table>\n",
       "</div>"
      ],
      "text/plain": [
       "                   dist       win  averageRating\n",
       "dist           1.000000  0.124685       0.029833\n",
       "win            0.124685  1.000000       0.231998\n",
       "averageRating  0.029833  0.231998       1.000000"
      ]
     },
     "execution_count": 244,
     "metadata": {},
     "output_type": "execute_result"
    }
   ],
   "source": [
    "trs_pred['dist'] = trs_pred.xy.apply(lambda c: sqrt(sum(c ** 2)))\n",
    "trs_pred = trs_pred.merge(df, on=['title'])\n",
    "trs_pred.win = trs_pred.win.apply(lambda v: 1 if v > 1 else 0)\n",
    "trs_pred[['dist', 'win']]\n",
    "trs_pred[['dist', 'win', 'averageRating']].corr()"
   ]
  },
  {
   "cell_type": "markdown",
   "metadata": {},
   "source": [
    "## Girvan Newman"
   ]
  },
  {
   "cell_type": "code",
   "execution_count": 93,
   "metadata": {},
   "outputs": [],
   "source": [
    "gn = nx.algorithms.community.centrality.girvan_newman(graph)"
   ]
  },
  {
   "cell_type": "code",
   "execution_count": 98,
   "metadata": {},
   "outputs": [
    {
     "ename": "KeyboardInterrupt",
     "evalue": "",
     "output_type": "error",
     "traceback": [
      "\u001b[0;31m---------------------------------------------------------------------------\u001b[0m",
      "\u001b[0;31mKeyboardInterrupt\u001b[0m                         Traceback (most recent call last)",
      "\u001b[0;32m<ipython-input-98-5b787436ede8>\u001b[0m in \u001b[0;36m<module>\u001b[0;34m\u001b[0m\n\u001b[1;32m      1\u001b[0m \u001b[0;32mfor\u001b[0m \u001b[0mi\u001b[0m \u001b[0;32min\u001b[0m \u001b[0mrange\u001b[0m\u001b[0;34m(\u001b[0m\u001b[0;36m200\u001b[0m\u001b[0;34m)\u001b[0m\u001b[0;34m:\u001b[0m\u001b[0;34m\u001b[0m\u001b[0;34m\u001b[0m\u001b[0m\n\u001b[0;32m----> 2\u001b[0;31m     \u001b[0mgn0\u001b[0m \u001b[0;34m=\u001b[0m \u001b[0mnext\u001b[0m\u001b[0;34m(\u001b[0m\u001b[0mgn\u001b[0m\u001b[0;34m)\u001b[0m\u001b[0;34m\u001b[0m\u001b[0;34m\u001b[0m\u001b[0m\n\u001b[0m",
      "\u001b[0;32m~/Documents/code/ml-env/lib/python3.7/site-packages/networkx/algorithms/community/centrality.py\u001b[0m in \u001b[0;36mgirvan_newman\u001b[0;34m(G, most_valuable_edge)\u001b[0m\n\u001b[1;32m    152\u001b[0m     \u001b[0mg\u001b[0m\u001b[0;34m.\u001b[0m\u001b[0mremove_edges_from\u001b[0m\u001b[0;34m(\u001b[0m\u001b[0mnx\u001b[0m\u001b[0;34m.\u001b[0m\u001b[0mselfloop_edges\u001b[0m\u001b[0;34m(\u001b[0m\u001b[0mg\u001b[0m\u001b[0;34m)\u001b[0m\u001b[0;34m)\u001b[0m\u001b[0;34m\u001b[0m\u001b[0;34m\u001b[0m\u001b[0m\n\u001b[1;32m    153\u001b[0m     \u001b[0;32mwhile\u001b[0m \u001b[0mg\u001b[0m\u001b[0;34m.\u001b[0m\u001b[0mnumber_of_edges\u001b[0m\u001b[0;34m(\u001b[0m\u001b[0;34m)\u001b[0m \u001b[0;34m>\u001b[0m \u001b[0;36m0\u001b[0m\u001b[0;34m:\u001b[0m\u001b[0;34m\u001b[0m\u001b[0;34m\u001b[0m\u001b[0m\n\u001b[0;32m--> 154\u001b[0;31m         \u001b[0;32myield\u001b[0m \u001b[0m_without_most_central_edges\u001b[0m\u001b[0;34m(\u001b[0m\u001b[0mg\u001b[0m\u001b[0;34m,\u001b[0m \u001b[0mmost_valuable_edge\u001b[0m\u001b[0;34m)\u001b[0m\u001b[0;34m\u001b[0m\u001b[0;34m\u001b[0m\u001b[0m\n\u001b[0m\u001b[1;32m    155\u001b[0m \u001b[0;34m\u001b[0m\u001b[0m\n\u001b[1;32m    156\u001b[0m \u001b[0;34m\u001b[0m\u001b[0m\n",
      "\u001b[0;32m~/Documents/code/ml-env/lib/python3.7/site-packages/networkx/algorithms/community/centrality.py\u001b[0m in \u001b[0;36m_without_most_central_edges\u001b[0;34m(G, most_valuable_edge)\u001b[0m\n\u001b[1;32m    171\u001b[0m     \u001b[0mnum_new_components\u001b[0m \u001b[0;34m=\u001b[0m \u001b[0moriginal_num_components\u001b[0m\u001b[0;34m\u001b[0m\u001b[0;34m\u001b[0m\u001b[0m\n\u001b[1;32m    172\u001b[0m     \u001b[0;32mwhile\u001b[0m \u001b[0mnum_new_components\u001b[0m \u001b[0;34m<=\u001b[0m \u001b[0moriginal_num_components\u001b[0m\u001b[0;34m:\u001b[0m\u001b[0;34m\u001b[0m\u001b[0;34m\u001b[0m\u001b[0m\n\u001b[0;32m--> 173\u001b[0;31m         \u001b[0medge\u001b[0m \u001b[0;34m=\u001b[0m \u001b[0mmost_valuable_edge\u001b[0m\u001b[0;34m(\u001b[0m\u001b[0mG\u001b[0m\u001b[0;34m)\u001b[0m\u001b[0;34m\u001b[0m\u001b[0;34m\u001b[0m\u001b[0m\n\u001b[0m\u001b[1;32m    174\u001b[0m         \u001b[0mG\u001b[0m\u001b[0;34m.\u001b[0m\u001b[0mremove_edge\u001b[0m\u001b[0;34m(\u001b[0m\u001b[0;34m*\u001b[0m\u001b[0medge\u001b[0m\u001b[0;34m)\u001b[0m\u001b[0;34m\u001b[0m\u001b[0;34m\u001b[0m\u001b[0m\n\u001b[1;32m    175\u001b[0m         \u001b[0mnew_components\u001b[0m \u001b[0;34m=\u001b[0m \u001b[0mtuple\u001b[0m\u001b[0;34m(\u001b[0m\u001b[0mnx\u001b[0m\u001b[0;34m.\u001b[0m\u001b[0mconnected_components\u001b[0m\u001b[0;34m(\u001b[0m\u001b[0mG\u001b[0m\u001b[0;34m)\u001b[0m\u001b[0;34m)\u001b[0m\u001b[0;34m\u001b[0m\u001b[0;34m\u001b[0m\u001b[0m\n",
      "\u001b[0;32m~/Documents/code/ml-env/lib/python3.7/site-packages/networkx/algorithms/community/centrality.py\u001b[0m in \u001b[0;36mmost_valuable_edge\u001b[0;34m(G)\u001b[0m\n\u001b[1;32m    144\u001b[0m             \u001b[0;31m# We have guaranteed that the graph is non-empty, so this\u001b[0m\u001b[0;34m\u001b[0m\u001b[0;34m\u001b[0m\u001b[0;34m\u001b[0m\u001b[0m\n\u001b[1;32m    145\u001b[0m             \u001b[0;31m# dictionary will never be empty.\u001b[0m\u001b[0;34m\u001b[0m\u001b[0;34m\u001b[0m\u001b[0;34m\u001b[0m\u001b[0m\n\u001b[0;32m--> 146\u001b[0;31m             \u001b[0mbetweenness\u001b[0m \u001b[0;34m=\u001b[0m \u001b[0mnx\u001b[0m\u001b[0;34m.\u001b[0m\u001b[0medge_betweenness_centrality\u001b[0m\u001b[0;34m(\u001b[0m\u001b[0mG\u001b[0m\u001b[0;34m)\u001b[0m\u001b[0;34m\u001b[0m\u001b[0;34m\u001b[0m\u001b[0m\n\u001b[0m\u001b[1;32m    147\u001b[0m             \u001b[0;32mreturn\u001b[0m \u001b[0mmax\u001b[0m\u001b[0;34m(\u001b[0m\u001b[0mbetweenness\u001b[0m\u001b[0;34m,\u001b[0m \u001b[0mkey\u001b[0m\u001b[0;34m=\u001b[0m\u001b[0mbetweenness\u001b[0m\u001b[0;34m.\u001b[0m\u001b[0mget\u001b[0m\u001b[0;34m)\u001b[0m\u001b[0;34m\u001b[0m\u001b[0;34m\u001b[0m\u001b[0m\n\u001b[1;32m    148\u001b[0m     \u001b[0;31m# The copy of G here must include the edge weight data.\u001b[0m\u001b[0;34m\u001b[0m\u001b[0;34m\u001b[0m\u001b[0;34m\u001b[0m\u001b[0m\n",
      "\u001b[0;32m</home/rotem/Documents/code/ml-env/lib/python3.7/site-packages/decorator.py:decorator-gen-253>\u001b[0m in \u001b[0;36medge_betweenness_centrality\u001b[0;34m(G, k, normalized, weight, seed)\u001b[0m\n",
      "\u001b[0;32m~/Documents/code/ml-env/lib/python3.7/site-packages/networkx/utils/decorators.py\u001b[0m in \u001b[0;36m_random_state\u001b[0;34m(func, *args, **kwargs)\u001b[0m\n\u001b[1;32m    462\u001b[0m         \u001b[0mnew_args\u001b[0m \u001b[0;34m=\u001b[0m \u001b[0mlist\u001b[0m\u001b[0;34m(\u001b[0m\u001b[0margs\u001b[0m\u001b[0;34m)\u001b[0m\u001b[0;34m\u001b[0m\u001b[0;34m\u001b[0m\u001b[0m\n\u001b[1;32m    463\u001b[0m         \u001b[0mnew_args\u001b[0m\u001b[0;34m[\u001b[0m\u001b[0mrandom_state_index\u001b[0m\u001b[0;34m]\u001b[0m \u001b[0;34m=\u001b[0m \u001b[0mrandom_state\u001b[0m\u001b[0;34m\u001b[0m\u001b[0;34m\u001b[0m\u001b[0m\n\u001b[0;32m--> 464\u001b[0;31m         \u001b[0;32mreturn\u001b[0m \u001b[0mfunc\u001b[0m\u001b[0;34m(\u001b[0m\u001b[0;34m*\u001b[0m\u001b[0mnew_args\u001b[0m\u001b[0;34m,\u001b[0m \u001b[0;34m**\u001b[0m\u001b[0mkwargs\u001b[0m\u001b[0;34m)\u001b[0m\u001b[0;34m\u001b[0m\u001b[0;34m\u001b[0m\u001b[0m\n\u001b[0m\u001b[1;32m    465\u001b[0m     \u001b[0;32mreturn\u001b[0m \u001b[0m_random_state\u001b[0m\u001b[0;34m\u001b[0m\u001b[0;34m\u001b[0m\u001b[0m\n",
      "\u001b[0;32m~/Documents/code/ml-env/lib/python3.7/site-packages/networkx/algorithms/centrality/betweenness.py\u001b[0m in \u001b[0;36medge_betweenness_centrality\u001b[0;34m(G, k, normalized, weight, seed)\u001b[0m\n\u001b[1;32m    230\u001b[0m             \u001b[0mS\u001b[0m\u001b[0;34m,\u001b[0m \u001b[0mP\u001b[0m\u001b[0;34m,\u001b[0m \u001b[0msigma\u001b[0m \u001b[0;34m=\u001b[0m \u001b[0m_single_source_dijkstra_path_basic\u001b[0m\u001b[0;34m(\u001b[0m\u001b[0mG\u001b[0m\u001b[0;34m,\u001b[0m \u001b[0ms\u001b[0m\u001b[0;34m,\u001b[0m \u001b[0mweight\u001b[0m\u001b[0;34m)\u001b[0m\u001b[0;34m\u001b[0m\u001b[0;34m\u001b[0m\u001b[0m\n\u001b[1;32m    231\u001b[0m         \u001b[0;31m# accumulation\u001b[0m\u001b[0;34m\u001b[0m\u001b[0;34m\u001b[0m\u001b[0;34m\u001b[0m\u001b[0m\n\u001b[0;32m--> 232\u001b[0;31m         \u001b[0mbetweenness\u001b[0m \u001b[0;34m=\u001b[0m \u001b[0m_accumulate_edges\u001b[0m\u001b[0;34m(\u001b[0m\u001b[0mbetweenness\u001b[0m\u001b[0;34m,\u001b[0m \u001b[0mS\u001b[0m\u001b[0;34m,\u001b[0m \u001b[0mP\u001b[0m\u001b[0;34m,\u001b[0m \u001b[0msigma\u001b[0m\u001b[0;34m,\u001b[0m \u001b[0ms\u001b[0m\u001b[0;34m)\u001b[0m\u001b[0;34m\u001b[0m\u001b[0;34m\u001b[0m\u001b[0m\n\u001b[0m\u001b[1;32m    233\u001b[0m     \u001b[0;31m# rescaling\u001b[0m\u001b[0;34m\u001b[0m\u001b[0;34m\u001b[0m\u001b[0;34m\u001b[0m\u001b[0m\n\u001b[1;32m    234\u001b[0m     \u001b[0;32mfor\u001b[0m \u001b[0mn\u001b[0m \u001b[0;32min\u001b[0m \u001b[0mG\u001b[0m\u001b[0;34m:\u001b[0m  \u001b[0;31m# remove nodes to only return edges\u001b[0m\u001b[0;34m\u001b[0m\u001b[0;34m\u001b[0m\u001b[0m\n",
      "\u001b[0;32m~/Documents/code/ml-env/lib/python3.7/site-packages/networkx/algorithms/centrality/betweenness.py\u001b[0m in \u001b[0;36m_accumulate_edges\u001b[0;34m(betweenness, S, P, sigma, s)\u001b[0m\n\u001b[1;32m    339\u001b[0m         \u001b[0;32mfor\u001b[0m \u001b[0mv\u001b[0m \u001b[0;32min\u001b[0m \u001b[0mP\u001b[0m\u001b[0;34m[\u001b[0m\u001b[0mw\u001b[0m\u001b[0;34m]\u001b[0m\u001b[0;34m:\u001b[0m\u001b[0;34m\u001b[0m\u001b[0;34m\u001b[0m\u001b[0m\n\u001b[1;32m    340\u001b[0m             \u001b[0mc\u001b[0m \u001b[0;34m=\u001b[0m \u001b[0msigma\u001b[0m\u001b[0;34m[\u001b[0m\u001b[0mv\u001b[0m\u001b[0;34m]\u001b[0m \u001b[0;34m*\u001b[0m \u001b[0mcoeff\u001b[0m\u001b[0;34m\u001b[0m\u001b[0;34m\u001b[0m\u001b[0m\n\u001b[0;32m--> 341\u001b[0;31m             \u001b[0;32mif\u001b[0m \u001b[0;34m(\u001b[0m\u001b[0mv\u001b[0m\u001b[0;34m,\u001b[0m \u001b[0mw\u001b[0m\u001b[0;34m)\u001b[0m \u001b[0;32mnot\u001b[0m \u001b[0;32min\u001b[0m \u001b[0mbetweenness\u001b[0m\u001b[0;34m:\u001b[0m\u001b[0;34m\u001b[0m\u001b[0;34m\u001b[0m\u001b[0m\n\u001b[0m\u001b[1;32m    342\u001b[0m                 \u001b[0mbetweenness\u001b[0m\u001b[0;34m[\u001b[0m\u001b[0;34m(\u001b[0m\u001b[0mw\u001b[0m\u001b[0;34m,\u001b[0m \u001b[0mv\u001b[0m\u001b[0;34m)\u001b[0m\u001b[0;34m]\u001b[0m \u001b[0;34m+=\u001b[0m \u001b[0mc\u001b[0m\u001b[0;34m\u001b[0m\u001b[0;34m\u001b[0m\u001b[0m\n\u001b[1;32m    343\u001b[0m             \u001b[0;32melse\u001b[0m\u001b[0;34m:\u001b[0m\u001b[0;34m\u001b[0m\u001b[0;34m\u001b[0m\u001b[0m\n",
      "\u001b[0;31mKeyboardInterrupt\u001b[0m: "
     ]
    }
   ],
   "source": [
    "for i in range(200):\n",
    "    gn0 = next(gn)"
   ]
  },
  {
   "cell_type": "code",
   "execution_count": 100,
   "metadata": {},
   "outputs": [
    {
     "data": {
      "text/html": [
       "<div>\n",
       "<style scoped>\n",
       "    .dataframe tbody tr th:only-of-type {\n",
       "        vertical-align: middle;\n",
       "    }\n",
       "\n",
       "    .dataframe tbody tr th {\n",
       "        vertical-align: top;\n",
       "    }\n",
       "\n",
       "    .dataframe thead th {\n",
       "        text-align: right;\n",
       "    }\n",
       "</style>\n",
       "<table border=\"1\" class=\"dataframe\">\n",
       "  <thead>\n",
       "    <tr style=\"text-align: right;\">\n",
       "      <th></th>\n",
       "      <th>title</th>\n",
       "      <th>win_movies</th>\n",
       "      <th>max_raiting</th>\n",
       "      <th>min_raiting</th>\n",
       "      <th>averageRating</th>\n",
       "      <th>rate</th>\n",
       "    </tr>\n",
       "    <tr>\n",
       "      <th>g</th>\n",
       "      <th></th>\n",
       "      <th></th>\n",
       "      <th></th>\n",
       "      <th></th>\n",
       "      <th></th>\n",
       "      <th></th>\n",
       "    </tr>\n",
       "  </thead>\n",
       "  <tbody>\n",
       "    <tr>\n",
       "      <th>0</th>\n",
       "      <td>378</td>\n",
       "      <td>7</td>\n",
       "      <td>7.978913</td>\n",
       "      <td>5.0</td>\n",
       "      <td>6.399097</td>\n",
       "      <td>1.851852</td>\n",
       "    </tr>\n",
       "    <tr>\n",
       "      <th>1</th>\n",
       "      <td>943</td>\n",
       "      <td>51</td>\n",
       "      <td>8.902625</td>\n",
       "      <td>5.0</td>\n",
       "      <td>7.586273</td>\n",
       "      <td>5.408271</td>\n",
       "    </tr>\n",
       "  </tbody>\n",
       "</table>\n",
       "</div>"
      ],
      "text/plain": [
       "   title  win_movies  max_raiting  min_raiting  averageRating      rate\n",
       "g                                                                      \n",
       "0    378           7     7.978913          5.0       6.399097  1.851852\n",
       "1    943          51     8.902625          5.0       7.586273  5.408271"
      ]
     },
     "execution_count": 100,
     "metadata": {},
     "output_type": "execute_result"
    }
   ],
   "source": [
    "gnp = {}\n",
    "for i, arr in enumerate(gn0):\n",
    "    for item in arr:\n",
    "        gnp[item] = i\n",
    "stats = community_stats(df, gnp)\n",
    "stats['g'] = stats.max_raiting.apply(lambda v: 1 if v >= 8 else 0)\n",
    "stats_g = stats.groupby(['g']).agg({'title': 'sum', 'win_movies':'sum', 'max_raiting':'max', 'min_raiting': 'min', 'averageRating': 'mean'})\n",
    "stats_g['rate'] = 100 * stats_g.win_movies / stats_g.title \n",
    "stats_g"
   ]
  },
  {
   "cell_type": "code",
   "execution_count": 99,
   "metadata": {},
   "outputs": [
    {
     "data": {
      "text/plain": [
       "222"
      ]
     },
     "execution_count": 99,
     "metadata": {},
     "output_type": "execute_result"
    }
   ],
   "source": [
    "len(gn0)"
   ]
  },
  {
   "cell_type": "code",
   "execution_count": null,
   "metadata": {},
   "outputs": [],
   "source": []
  }
 ],
 "metadata": {
  "kernelspec": {
   "display_name": "ml-env",
   "language": "python",
   "name": "ml-env"
  },
  "language_info": {
   "codemirror_mode": {
    "name": "ipython",
    "version": 3
   },
   "file_extension": ".py",
   "mimetype": "text/x-python",
   "name": "python",
   "nbconvert_exporter": "python",
   "pygments_lexer": "ipython3",
   "version": "3.7.5"
  }
 },
 "nbformat": 4,
 "nbformat_minor": 4
}
